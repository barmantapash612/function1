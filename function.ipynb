{
  "nbformat": 4,
  "nbformat_minor": 0,
  "metadata": {
    "colab": {
      "provenance": []
    },
    "kernelspec": {
      "name": "python3",
      "display_name": "Python 3"
    },
    "language_info": {
      "name": "python"
    }
  },
  "cells": [
    {
      "cell_type": "markdown",
      "source": [
        "# Theory Questions:"
      ],
      "metadata": {
        "id": "Rd4spzlm2MjE"
      }
    },
    {
      "cell_type": "markdown",
      "source": [
        "**1. What is the difference between a function and a method in Python?**\n",
        "\n",
        "▶In Python, both functions and methods are used to perform specific tasks, but they have a key difference in how they are used and where they belong.\n",
        "\n",
        "\n",
        "**1. Function**\n",
        "\n",
        "1 . A function is a block of reusable code that performs a specific task.\n",
        "\n",
        "2 . It is defined using the def keyword and can exist independently.\n",
        "\n",
        "3 . Functions can be called anywhere in the program.\n",
        "\n",
        "**Example:**\n",
        "\n",
        "def greet(name):\n",
        "\n",
        "   return f\"Hello, {name}!\"\n",
        "\n",
        "print(greet(\"Alice\"))  \n",
        "\n",
        "**2. Method**\n",
        "\n",
        "1 . A method is a function that is associated with an object and belongs to a class.\n",
        "\n",
        "2 . It is called on an instance of a class and has access to the object's attributes.\n",
        "\n",
        "3 . Methods are defined inside a class and take self as their first parameter.\n",
        "\n",
        "**Example:**\n",
        "\n",
        "**class Person:**\n",
        "\n",
        " def __init__(self, name):\n",
        "\n",
        "self.name = name\n",
        "\n",
        "  def greet(self):\n",
        "\n",
        "return f\"Hello, {self.name}!\"  \n",
        "\n",
        "person = Person(\"Alice\")\n",
        "\n",
        "print(person.greet())  # Output: Hello, Alice!"
      ],
      "metadata": {
        "id": "VaOKndOXmDjm"
      }
    },
    {
      "cell_type": "markdown",
      "source": [
        "**2. Explain the concept of function arguments and parameters in Python.**\n",
        "\n",
        "▶In Python, parameters and arguments are used to pass data into functions.\n",
        "\n",
        "**Parameters:**   Variables listed inside the function definition.\n",
        "\n",
        "**Arguments:**   Values passed to a function when calling it.\n",
        "\n",
        "**Example:**\n",
        "\n",
        " def greet(name):  # 'name' is a parameter\n",
        "\n",
        " return f\"Hello, {name}!\"\n",
        "\n",
        "print(greet(\"Alice\"))  # \"Alice\" is an argument\n"
      ],
      "metadata": {
        "id": "Zqm3_LVkpltg"
      }
    },
    {
      "cell_type": "markdown",
      "source": [
        "**3. What are the different ways to define and call a function in Python?**\n",
        "\n",
        "▶Python provides multiple ways to define and call functions, offering flexibility in programming.\n",
        "\n",
        "1 . Standard Function – Defined using def, takes parameters, and returns a value.\n",
        "\n",
        "2 . Function with Default Arguments – Uses default parameter values if none are provided.\n",
        "\n",
        "3 . Function with Multiple Arguments – Accepts multiple parameters.\n",
        "\n",
        "4 . Arbitrary Arguments (*args) – Allows passing a variable number of positional arguments.\n",
        "\n",
        "5 . Arbitrary Keyword Arguments (**kwargs) – Allows passing a variable number of named arguments.\n",
        "\n",
        "6 . Lambda Function – A one-liner anonymous function using lambda.\n",
        "\n",
        "7 . Recursive Function – A function that calls itself for repetitive tasks.\n",
        "\n",
        "8 . Nested Function – A function defined inside another function.\n",
        "\n",
        "9 . Function as Argument – A function passed as an argument to another function (higher-order function).\n",
        "\n",
        "10 . Method (Function Inside a Class) – A function associated with an object in Object-Oriented Programming (OOP)\n",
        "\n",
        "**Standard Function**\n",
        "\n",
        "def greet(name):\n",
        "\n",
        " return f\"Hello, {name}!\"\n",
        "\n",
        "print(greet(\"Alice\"))\n",
        "\n"
      ],
      "metadata": {
        "id": "QwfqKWeCrL51"
      }
    },
    {
      "cell_type": "markdown",
      "source": [
        "**4. What is the purpose of the `return` statement in a Python function?**\n",
        "\n",
        "▶The return statement is used to send back a result from a function to the caller. It terminates the function execution and returns a value.\n",
        "\n",
        "**Key Points:**\n",
        "\n",
        "1 . Returns a Value – The function result can be stored in a variable or used in expressions.\n",
        "\n",
        "2 . Ends Function Execution – Once return is encountered, the function stops executing.\n",
        "\n",
        "3 . Can Return Multiple Values – Using tuples, lists, or dictionaries.\n",
        "\n",
        "4 .  Default Return Value is None – If no return is specified, Python returns None.\n",
        "\n",
        " Example ▶\n",
        "\n",
        "**Returning a Single Value**\n",
        "\n",
        "def add(a, b):\n",
        "\n",
        " return a + b\n",
        "\n",
        "result = add(3, 5)\n",
        "\n",
        "print(result)  # Output: 8\n"
      ],
      "metadata": {
        "id": "cmMY2l_Zt0t2"
      }
    },
    {
      "cell_type": "markdown",
      "source": [
        "**5. What are iterators in Python and how do they differ from iterables?**\n",
        "\n",
        "▶Iterable: Any object that can be looped over (list, tuple, string).\n",
        "\n",
        ": Has __iter__() method.\n",
        "\n",
        "Example:\n",
        "\n",
        "\n",
        "my_list = [1, 2, 3]\n",
        "\n",
        "for item in my_l\n",
        "\n",
        " print(item)\n",
        "\n",
        "Iterator: An object that remembers where it is in an iterable.\n",
        "\n",
        "Has __iter__() and __next__().\n",
        "\n",
        "Can be created using iter(iterable).\n",
        "\n",
        "**Example:**\n",
        "\n",
        "python\n",
        "Copy\n",
        "Edit\n",
        "my_list = [1, 2, 3]\n",
        "iterator = iter(my_list)  \n",
        "\n",
        "print(next(iterator))\n",
        "\n",
        "print(next(iterator))\n",
        "\n",
        "print(next(iterator))  \n",
        "  \n",
        "**Key Differences:**\n",
        "\n",
        "| Feature | Iterable | Iterator | |---------|---------|---------| | Definition | Can be looped over | Retrieves elements one at a time | | Methods | Has __iter__() | Has __iter__() and __next__() | | Usage | Works in for loops | Used with next() |"
      ],
      "metadata": {
        "id": "qVBxtuvFvU61"
      }
    },
    {
      "cell_type": "markdown",
      "source": [
        "**6. Explain the concept of generators in Python and how they are defined.**\n",
        "\n",
        "▶\n",
        "A generator is a special type of iterator that allows you to iterate over data on demand without storing everything in memory. It is useful for handling large datasets efficiently.\n",
        "\n",
        "\n",
        "**How Generators Work**\n",
        "\n",
        "1 . Defined using a function with yield instead of return.\n",
        "\n",
        "1 . When called, they don’t execute immediately but return a generator object.\n",
        "\n",
        "1 . yield pauses function execution and retains its state for the next call.\n",
        "\n",
        "**Defining a Generator**\n",
        "\n",
        "**Generators are created using a function with yield:**\n",
        "\n",
        "\n",
        "def count_up_to(n):\n",
        "\n",
        "  count = 1\n",
        "  \n",
        " while count <= n:\n",
        "\n",
        "\n",
        " yield count\n",
        "\n",
        " count += 1\n",
        "\n",
        "gen = count_up_to(3)\n",
        "\n",
        "print(next(gen))\n",
        "\n",
        "print(next(gen))\n",
        "\n",
        "print(next(gen))  \n"
      ],
      "metadata": {
        "id": "3M2qKKLIxfhy"
      }
    },
    {
      "cell_type": "markdown",
      "source": [
        "**7. What are the advantages of using generators over regular functions?**\n",
        "\n",
        "▶\n",
        "1 . Memory Efficiency – Uses lazy evaluation, generating values on demand without storing them in memory.\n",
        "\n",
        "2 . Faster Execution – Doesn't create and return full lists, improving performance.\n",
        "\n",
        "3 . Simplifies Code – No need to track states manually, as generators resume execution after yield.\n",
        "\n",
        "4 . Supports Infinite Sequences – Can generate values endlessly without memory overflow.\n",
        "\n",
        "5 . Works with Iterators (next()) – Automatically supports iteration.\n",
        "\n",
        "**Memory Efficient**\n",
        "\n",
        "def count_up_to(n):\n",
        "\n",
        "  count = 1\n",
        "\n",
        "   while count <= n:\n",
        "\n",
        "  yield count\n",
        "\n",
        "  count += 1\n"
      ],
      "metadata": {
        "id": "jl34CJJUznJp"
      }
    },
    {
      "cell_type": "markdown",
      "source": [
        "**8. What is a lambda function in Python and when is it typically used?**\n",
        "\n",
        "▶A lambda function in Python is a small, anonymous function that can have any number of arguments but only one expression.\n",
        "It is often used for short, simple operations where a full function definition is unnecessary.\n",
        "\n",
        "**when is it typically used**\n",
        "\n",
        "▶ Short, simple functions (avoiding unnecessary def).\n",
        "\n",
        " Inline operations with map(), filter(), sorted(), etc.\n",
        "\n",
        "Situations where a function is needed temporarily"
      ],
      "metadata": {
        "id": "BCpmBNAq2fDs"
      }
    },
    {
      "cell_type": "markdown",
      "source": [
        "**9. Explain the purpose and usage of the `map()` function in Python.**\n",
        "\n",
        "▶ **Purpose**\n",
        "\n",
        "The map() function is used to apply a function to each item in an iterable (like a list or tuple) and return a new iterator with the modified values.\n",
        "\n",
        "**Example :**\n",
        "\n",
        "numbers = [1, 2, 3, 4, 5]\n",
        "\n",
        "\n",
        "squared_numbers = map(lambda x: x ** 2, numbers)\n",
        "\n",
        "\n",
        "print(list(squared_numbers))  \n",
        "\n"
      ],
      "metadata": {
        "id": "PRI5ERo93bhB"
      }
    },
    {
      "cell_type": "markdown",
      "source": [
        "**10. What is the difference between `map()`, `reduce()`, and `filter()` functions in Python?**\n",
        "\n",
        "▶\n",
        "map() – Applies a function to each element in an iterable\n",
        "\n",
        "▶filter() – Selects elements that meet a condition.\n",
        "\n",
        "▶reduce() – Reduces all elements to a single value.\n",
        "\n",
        "**Example**\n",
        "\n",
        "from functools import reduce\n",
        "\n",
        "product = reduce(lambda x, y: x * y, numbers)  # 24\n",
        "\n",
        "\n"
      ],
      "metadata": {
        "id": "VpobGAAF6T5U"
      }
    },
    {
      "cell_type": "code",
      "source": [
        "\n",
        " from google.colab import files\n",
        "\n",
        "\n",
        "\n",
        "uploaded = files.upload()\n",
        "\n"
      ],
      "metadata": {
        "colab": {
          "base_uri": "https://localhost:8080/",
          "height": 73
        },
        "id": "O6dY9vhrAGUK",
        "outputId": "5c70dd1d-0532-4709-bd7c-24286a755b4b"
      },
      "execution_count": 5,
      "outputs": [
        {
          "output_type": "display_data",
          "data": {
            "text/plain": [
              "<IPython.core.display.HTML object>"
            ],
            "text/html": [
              "\n",
              "     <input type=\"file\" id=\"files-e59a2ca0-543e-4aff-9cf2-fd5168f1ddb9\" name=\"files[]\" multiple disabled\n",
              "        style=\"border:none\" />\n",
              "     <output id=\"result-e59a2ca0-543e-4aff-9cf2-fd5168f1ddb9\">\n",
              "      Upload widget is only available when the cell has been executed in the\n",
              "      current browser session. Please rerun this cell to enable.\n",
              "      </output>\n",
              "      <script>// Copyright 2017 Google LLC\n",
              "//\n",
              "// Licensed under the Apache License, Version 2.0 (the \"License\");\n",
              "// you may not use this file except in compliance with the License.\n",
              "// You may obtain a copy of the License at\n",
              "//\n",
              "//      http://www.apache.org/licenses/LICENSE-2.0\n",
              "//\n",
              "// Unless required by applicable law or agreed to in writing, software\n",
              "// distributed under the License is distributed on an \"AS IS\" BASIS,\n",
              "// WITHOUT WARRANTIES OR CONDITIONS OF ANY KIND, either express or implied.\n",
              "// See the License for the specific language governing permissions and\n",
              "// limitations under the License.\n",
              "\n",
              "/**\n",
              " * @fileoverview Helpers for google.colab Python module.\n",
              " */\n",
              "(function(scope) {\n",
              "function span(text, styleAttributes = {}) {\n",
              "  const element = document.createElement('span');\n",
              "  element.textContent = text;\n",
              "  for (const key of Object.keys(styleAttributes)) {\n",
              "    element.style[key] = styleAttributes[key];\n",
              "  }\n",
              "  return element;\n",
              "}\n",
              "\n",
              "// Max number of bytes which will be uploaded at a time.\n",
              "const MAX_PAYLOAD_SIZE = 100 * 1024;\n",
              "\n",
              "function _uploadFiles(inputId, outputId) {\n",
              "  const steps = uploadFilesStep(inputId, outputId);\n",
              "  const outputElement = document.getElementById(outputId);\n",
              "  // Cache steps on the outputElement to make it available for the next call\n",
              "  // to uploadFilesContinue from Python.\n",
              "  outputElement.steps = steps;\n",
              "\n",
              "  return _uploadFilesContinue(outputId);\n",
              "}\n",
              "\n",
              "// This is roughly an async generator (not supported in the browser yet),\n",
              "// where there are multiple asynchronous steps and the Python side is going\n",
              "// to poll for completion of each step.\n",
              "// This uses a Promise to block the python side on completion of each step,\n",
              "// then passes the result of the previous step as the input to the next step.\n",
              "function _uploadFilesContinue(outputId) {\n",
              "  const outputElement = document.getElementById(outputId);\n",
              "  const steps = outputElement.steps;\n",
              "\n",
              "  const next = steps.next(outputElement.lastPromiseValue);\n",
              "  return Promise.resolve(next.value.promise).then((value) => {\n",
              "    // Cache the last promise value to make it available to the next\n",
              "    // step of the generator.\n",
              "    outputElement.lastPromiseValue = value;\n",
              "    return next.value.response;\n",
              "  });\n",
              "}\n",
              "\n",
              "/**\n",
              " * Generator function which is called between each async step of the upload\n",
              " * process.\n",
              " * @param {string} inputId Element ID of the input file picker element.\n",
              " * @param {string} outputId Element ID of the output display.\n",
              " * @return {!Iterable<!Object>} Iterable of next steps.\n",
              " */\n",
              "function* uploadFilesStep(inputId, outputId) {\n",
              "  const inputElement = document.getElementById(inputId);\n",
              "  inputElement.disabled = false;\n",
              "\n",
              "  const outputElement = document.getElementById(outputId);\n",
              "  outputElement.innerHTML = '';\n",
              "\n",
              "  const pickedPromise = new Promise((resolve) => {\n",
              "    inputElement.addEventListener('change', (e) => {\n",
              "      resolve(e.target.files);\n",
              "    });\n",
              "  });\n",
              "\n",
              "  const cancel = document.createElement('button');\n",
              "  inputElement.parentElement.appendChild(cancel);\n",
              "  cancel.textContent = 'Cancel upload';\n",
              "  const cancelPromise = new Promise((resolve) => {\n",
              "    cancel.onclick = () => {\n",
              "      resolve(null);\n",
              "    };\n",
              "  });\n",
              "\n",
              "  // Wait for the user to pick the files.\n",
              "  const files = yield {\n",
              "    promise: Promise.race([pickedPromise, cancelPromise]),\n",
              "    response: {\n",
              "      action: 'starting',\n",
              "    }\n",
              "  };\n",
              "\n",
              "  cancel.remove();\n",
              "\n",
              "  // Disable the input element since further picks are not allowed.\n",
              "  inputElement.disabled = true;\n",
              "\n",
              "  if (!files) {\n",
              "    return {\n",
              "      response: {\n",
              "        action: 'complete',\n",
              "      }\n",
              "    };\n",
              "  }\n",
              "\n",
              "  for (const file of files) {\n",
              "    const li = document.createElement('li');\n",
              "    li.append(span(file.name, {fontWeight: 'bold'}));\n",
              "    li.append(span(\n",
              "        `(${file.type || 'n/a'}) - ${file.size} bytes, ` +\n",
              "        `last modified: ${\n",
              "            file.lastModifiedDate ? file.lastModifiedDate.toLocaleDateString() :\n",
              "                                    'n/a'} - `));\n",
              "    const percent = span('0% done');\n",
              "    li.appendChild(percent);\n",
              "\n",
              "    outputElement.appendChild(li);\n",
              "\n",
              "    const fileDataPromise = new Promise((resolve) => {\n",
              "      const reader = new FileReader();\n",
              "      reader.onload = (e) => {\n",
              "        resolve(e.target.result);\n",
              "      };\n",
              "      reader.readAsArrayBuffer(file);\n",
              "    });\n",
              "    // Wait for the data to be ready.\n",
              "    let fileData = yield {\n",
              "      promise: fileDataPromise,\n",
              "      response: {\n",
              "        action: 'continue',\n",
              "      }\n",
              "    };\n",
              "\n",
              "    // Use a chunked sending to avoid message size limits. See b/62115660.\n",
              "    let position = 0;\n",
              "    do {\n",
              "      const length = Math.min(fileData.byteLength - position, MAX_PAYLOAD_SIZE);\n",
              "      const chunk = new Uint8Array(fileData, position, length);\n",
              "      position += length;\n",
              "\n",
              "      const base64 = btoa(String.fromCharCode.apply(null, chunk));\n",
              "      yield {\n",
              "        response: {\n",
              "          action: 'append',\n",
              "          file: file.name,\n",
              "          data: base64,\n",
              "        },\n",
              "      };\n",
              "\n",
              "      let percentDone = fileData.byteLength === 0 ?\n",
              "          100 :\n",
              "          Math.round((position / fileData.byteLength) * 100);\n",
              "      percent.textContent = `${percentDone}% done`;\n",
              "\n",
              "    } while (position < fileData.byteLength);\n",
              "  }\n",
              "\n",
              "  // All done.\n",
              "  yield {\n",
              "    response: {\n",
              "      action: 'complete',\n",
              "    }\n",
              "  };\n",
              "}\n",
              "\n",
              "scope.google = scope.google || {};\n",
              "scope.google.colab = scope.google.colab || {};\n",
              "scope.google.colab._files = {\n",
              "  _uploadFiles,\n",
              "  _uploadFilesContinue,\n",
              "};\n",
              "})(self);\n",
              "</script> "
            ]
          },
          "metadata": {}
        },
        {
          "output_type": "stream",
          "name": "stdout",
          "text": [
            "Saving IMG20250404190834.jpg to IMG20250404190834 (1).jpg\n"
          ]
        }
      ]
    },
    {
      "cell_type": "markdown",
      "source": [
        "# Practical Questions:"
      ],
      "metadata": {
        "id": "wGG5Uxj8CF4h"
      }
    },
    {
      "cell_type": "code",
      "source": [
        "''' 1. Write a Python function that takes a list of numbers as input and returns the sum of all even numbers in\n",
        "the list.'''\n",
        "\n",
        "def sum_even_numbers(numbers):\n",
        "    return sum(filter(lambda x: x % 2 == 0, numbers))\n",
        "\n",
        "# Example usage\n",
        "numbers = [1, 2, 3, 4, 5, 6, 7, 8]\n",
        "result = sum_even_numbers(numbers)\n",
        "print(result)  # Output: 20 (2 + 4 + 6 + 8)\n"
      ],
      "metadata": {
        "colab": {
          "base_uri": "https://localhost:8080/"
        },
        "id": "ZTSzVYTVC8YI",
        "outputId": "16e14b83-9481-4f29-a156-f46a793cc9c2"
      },
      "execution_count": 6,
      "outputs": [
        {
          "output_type": "stream",
          "name": "stdout",
          "text": [
            "20\n"
          ]
        }
      ]
    },
    {
      "cell_type": "code",
      "source": [
        "''' 2. Create a Python function that accepts a string and returns the reverse of that string '''\n",
        "def reverse_string_loop(s):\n",
        "    reversed_str = \"\"\n",
        "    for char in s:\n",
        "        reversed_str = char + reversed_str  # Prepend each character\n",
        "    return reversed_str\n",
        "\n",
        "print(reverse_string_loop(\"Python\"))  # Output: \"nohtyP\"\n"
      ],
      "metadata": {
        "colab": {
          "base_uri": "https://localhost:8080/"
        },
        "id": "wAmqhL7YDRAv",
        "outputId": "a8afe37c-ddda-43ee-bfea-17a286e17c11"
      },
      "execution_count": 7,
      "outputs": [
        {
          "output_type": "stream",
          "name": "stdout",
          "text": [
            "nohtyP\n"
          ]
        }
      ]
    },
    {
      "cell_type": "code",
      "source": [
        "'''3. Implement a Python function that takes a list of integers and returns a new list containing the squares of\n",
        "each number.'''\n",
        "def square_numbers_map(numbers):\n",
        "    return list(map(lambda x: x ** 2, numbers))\n",
        "\n",
        "print(square_numbers_map([1, 2, 3, 4, 5]))  # Output: [1, 4, 9, 16, 25]\n"
      ],
      "metadata": {
        "colab": {
          "base_uri": "https://localhost:8080/"
        },
        "id": "tY3-QVMwDpay",
        "outputId": "521b6ced-4fb4-4327-f506-47e9e5fb62bd"
      },
      "execution_count": 8,
      "outputs": [
        {
          "output_type": "stream",
          "name": "stdout",
          "text": [
            "[1, 4, 9, 16, 25]\n"
          ]
        }
      ]
    },
    {
      "cell_type": "code",
      "source": [
        "'''4. Write a Python function that checks if a given number is prime or not from 1 to 200.'''\n",
        "def is_prime(num):\n",
        "    if num < 2:\n",
        "        return False  # 0 and 1 are not prime\n",
        "    for i in range(2, int(num ** 0.5) + 1):  # Check divisibility up to sqrt(num)\n",
        "        if num % i == 0:\n",
        "            return False\n",
        "    return True\n",
        "\n",
        "# Check prime numbers from 1 to 200\n",
        "for n in range(1, 201):\n",
        "    if is_prime(n):\n",
        "        print(n, end=\" \")  # Print all prime numbers from 1 to 200\n"
      ],
      "metadata": {
        "colab": {
          "base_uri": "https://localhost:8080/"
        },
        "id": "jzfdKOrdEAE1",
        "outputId": "ad5ea81b-a2a7-4967-9d8e-c3d639019072"
      },
      "execution_count": 9,
      "outputs": [
        {
          "output_type": "stream",
          "name": "stdout",
          "text": [
            "2 3 5 7 11 13 17 19 23 29 31 37 41 43 47 53 59 61 67 71 73 79 83 89 97 101 103 107 109 113 127 131 137 139 149 151 157 163 167 173 179 181 191 193 197 199 "
          ]
        }
      ]
    },
    {
      "cell_type": "code",
      "source": [
        "'''5. Create an iterator class in Python that generates the Fibonacci sequence up to a specified number of\n",
        "terms.'''\n",
        "class FibonacciIterator:\n",
        "    def __init__(self, n_terms):\n",
        "        self.n_terms = n_terms  # Number of terms\n",
        "        self.a, self.b = 0, 1  # First two Fibonacci numbers\n",
        "        self.count = 0  # Counter\n",
        "\n",
        "    def __iter__(self):\n",
        "        return self  # Iterator object\n",
        "\n",
        "    def __next__(self):\n",
        "        if self.count >= self.n_terms:\n",
        "            raise StopIteration  # Stop when reaching n_terms\n",
        "\n",
        "        fib_number = self.a  # Store current Fibonacci number\n",
        "        self.a, self.b = self.b, self.a + self.b  # Update Fibonacci sequence\n",
        "        self.count += 1  # Increase count\n",
        "        return fib_number  # Return the next Fibonacci number\n",
        "\n",
        "# Create an iterator for 10 Fibonacci numbers\n",
        "fib_iter = FibonacciIterator(10)\n",
        "\n",
        "# Print Fibonacci sequence\n",
        "for num in fib_iter:\n",
        "    print(num, end=\" \")\n"
      ],
      "metadata": {
        "colab": {
          "base_uri": "https://localhost:8080/"
        },
        "id": "pj5W7KIwE16A",
        "outputId": "d0ae6827-3eeb-4bf8-a0e3-6e8b2498a7be"
      },
      "execution_count": 10,
      "outputs": [
        {
          "output_type": "stream",
          "name": "stdout",
          "text": [
            "0 1 1 2 3 5 8 13 21 34 "
          ]
        }
      ]
    },
    {
      "cell_type": "code",
      "source": [
        "'''6. Write a generator function in Python that yields the powers of 2 up to a given exponent.'''\n",
        "def powers_of_two(exponent):\n",
        "    for i in range(exponent + 1):  # Loop from 0 to given exponent\n",
        "        yield 2 ** i  # Yield powers of 2\n",
        "\n",
        "# Use generator to get powers of 2 up to exponent 5\n",
        "for num in powers_of_two(5):\n",
        "    print(num, end=\" \")\n"
      ],
      "metadata": {
        "colab": {
          "base_uri": "https://localhost:8080/"
        },
        "id": "I4B7OMW1FOwW",
        "outputId": "8b9f5226-8f22-4f52-d525-e105555565da"
      },
      "execution_count": 11,
      "outputs": [
        {
          "output_type": "stream",
          "name": "stdout",
          "text": [
            "1 2 4 8 16 32 "
          ]
        }
      ]
    },
    {
      "cell_type": "code",
      "source": [
        "'''7. Implement a generator function that reads a file line by line and yields each line as a string.'''\n",
        "def read_file_line_by_line(file_path):\n",
        "    with open(file_path, 'r') as file:\n",
        "        for line in file:\n",
        "            yield line.strip()  # Yield each line without trailing newline\n",
        "\n",
        "# Example usage\n",
        "file_path = \"sample.txt\"  # Replace with your file name\n",
        "\n",
        "for line in read_file_line_by_line(file_path):\n",
        "    print(line)  # Print each line from the file\n"
      ],
      "metadata": {
        "colab": {
          "base_uri": "https://localhost:8080/",
          "height": 315
        },
        "id": "qFh5WRrJFerk",
        "outputId": "984ec2bf-4eec-46f5-f24f-53ff03514da0"
      },
      "execution_count": 12,
      "outputs": [
        {
          "output_type": "error",
          "ename": "FileNotFoundError",
          "evalue": "[Errno 2] No such file or directory: 'sample.txt'",
          "traceback": [
            "\u001b[0;31m---------------------------------------------------------------------------\u001b[0m",
            "\u001b[0;31mFileNotFoundError\u001b[0m                         Traceback (most recent call last)",
            "\u001b[0;32m<ipython-input-12-3a324b77dc8a>\u001b[0m in \u001b[0;36m<cell line: 0>\u001b[0;34m()\u001b[0m\n\u001b[1;32m      8\u001b[0m \u001b[0mfile_path\u001b[0m \u001b[0;34m=\u001b[0m \u001b[0;34m\"sample.txt\"\u001b[0m  \u001b[0;31m# Replace with your file name\u001b[0m\u001b[0;34m\u001b[0m\u001b[0;34m\u001b[0m\u001b[0m\n\u001b[1;32m      9\u001b[0m \u001b[0;34m\u001b[0m\u001b[0m\n\u001b[0;32m---> 10\u001b[0;31m \u001b[0;32mfor\u001b[0m \u001b[0mline\u001b[0m \u001b[0;32min\u001b[0m \u001b[0mread_file_line_by_line\u001b[0m\u001b[0;34m(\u001b[0m\u001b[0mfile_path\u001b[0m\u001b[0;34m)\u001b[0m\u001b[0;34m:\u001b[0m\u001b[0;34m\u001b[0m\u001b[0;34m\u001b[0m\u001b[0m\n\u001b[0m\u001b[1;32m     11\u001b[0m     \u001b[0mprint\u001b[0m\u001b[0;34m(\u001b[0m\u001b[0mline\u001b[0m\u001b[0;34m)\u001b[0m  \u001b[0;31m# Print each line from the file\u001b[0m\u001b[0;34m\u001b[0m\u001b[0;34m\u001b[0m\u001b[0m\n",
            "\u001b[0;32m<ipython-input-12-3a324b77dc8a>\u001b[0m in \u001b[0;36mread_file_line_by_line\u001b[0;34m(file_path)\u001b[0m\n\u001b[1;32m      1\u001b[0m \u001b[0;34m'''7. Implement a generator function that reads a file line by line and yields each line as a string.'''\u001b[0m\u001b[0;34m\u001b[0m\u001b[0;34m\u001b[0m\u001b[0m\n\u001b[1;32m      2\u001b[0m \u001b[0;32mdef\u001b[0m \u001b[0mread_file_line_by_line\u001b[0m\u001b[0;34m(\u001b[0m\u001b[0mfile_path\u001b[0m\u001b[0;34m)\u001b[0m\u001b[0;34m:\u001b[0m\u001b[0;34m\u001b[0m\u001b[0;34m\u001b[0m\u001b[0m\n\u001b[0;32m----> 3\u001b[0;31m     \u001b[0;32mwith\u001b[0m \u001b[0mopen\u001b[0m\u001b[0;34m(\u001b[0m\u001b[0mfile_path\u001b[0m\u001b[0;34m,\u001b[0m \u001b[0;34m'r'\u001b[0m\u001b[0;34m)\u001b[0m \u001b[0;32mas\u001b[0m \u001b[0mfile\u001b[0m\u001b[0;34m:\u001b[0m\u001b[0;34m\u001b[0m\u001b[0;34m\u001b[0m\u001b[0m\n\u001b[0m\u001b[1;32m      4\u001b[0m         \u001b[0;32mfor\u001b[0m \u001b[0mline\u001b[0m \u001b[0;32min\u001b[0m \u001b[0mfile\u001b[0m\u001b[0;34m:\u001b[0m\u001b[0;34m\u001b[0m\u001b[0;34m\u001b[0m\u001b[0m\n\u001b[1;32m      5\u001b[0m             \u001b[0;32myield\u001b[0m \u001b[0mline\u001b[0m\u001b[0;34m.\u001b[0m\u001b[0mstrip\u001b[0m\u001b[0;34m(\u001b[0m\u001b[0;34m)\u001b[0m  \u001b[0;31m# Yield each line without trailing newline\u001b[0m\u001b[0;34m\u001b[0m\u001b[0;34m\u001b[0m\u001b[0m\n",
            "\u001b[0;31mFileNotFoundError\u001b[0m: [Errno 2] No such file or directory: 'sample.txt'"
          ]
        }
      ]
    },
    {
      "cell_type": "code",
      "source": [
        "'''8. Use a lambda function in Python to sort a list of tuples based on the second element of each tuple.'''\n",
        "# List of tuples\n",
        "data = [(1, 5), (3, 2), (4, 8), (2, 1)]\n",
        "\n",
        "# Sort using lambda (based on second element)\n",
        "sorted_data = sorted(data, key=lambda x: x[1])\n",
        "\n",
        "print(\"Sorted List:\", sorted_data)\n"
      ],
      "metadata": {
        "colab": {
          "base_uri": "https://localhost:8080/"
        },
        "id": "JC3dP5IrF_eL",
        "outputId": "3083d820-e492-4d63-e3f3-9e5c8402d773"
      },
      "execution_count": 13,
      "outputs": [
        {
          "output_type": "stream",
          "name": "stdout",
          "text": [
            "Sorted List: [(2, 1), (3, 2), (1, 5), (4, 8)]\n"
          ]
        }
      ]
    },
    {
      "cell_type": "code",
      "source": [
        "'''9. Write a Python program that uses `map()` to convert a list of temperatures from Celsius to Fahrenheit.'''\n",
        "\n",
        "# List of temperatures in Celsius\n",
        "celsius_temps = [0, 10, 20, 30, 40]\n",
        "\n",
        "# Convert to Fahrenheit using map() and lambda\n",
        "fahrenheit_temps = list(map(lambda c: (c * 9/5) + 32, celsius_temps))\n",
        "\n",
        "print(\"Fahrenheit Temperatures:\", fahrenheit_temps)\n"
      ],
      "metadata": {
        "colab": {
          "base_uri": "https://localhost:8080/"
        },
        "id": "5Ou0l_AqGLGo",
        "outputId": "6e232d22-c5bc-44b3-af55-c37b647e7900"
      },
      "execution_count": 15,
      "outputs": [
        {
          "output_type": "stream",
          "name": "stdout",
          "text": [
            "Fahrenheit Temperatures: [32.0, 50.0, 68.0, 86.0, 104.0]\n"
          ]
        }
      ]
    },
    {
      "cell_type": "code",
      "source": [
        "'''10. Create a Python program that uses `filter()` to remove all the vowels from a given string.'''\n",
        "# Function to check if a character is not a vowel\n",
        "def is_not_vowel(char):\n",
        "    return char.lower() not in \"aeiou\"\n",
        "\n",
        "# Input string\n",
        "text = \"Hello, how are you?\"\n",
        "\n",
        "# Remove vowels using filter()\n",
        "filtered_text = \"\".join(filter(is_not_vowel, text))\n",
        "\n",
        "print(\"String without vowels:\", filtered_text)\n"
      ],
      "metadata": {
        "colab": {
          "base_uri": "https://localhost:8080/"
        },
        "id": "UB165nKFGe3B",
        "outputId": "c7e3e774-99ac-4e52-9bae-9510a69f9eb7"
      },
      "execution_count": 16,
      "outputs": [
        {
          "output_type": "stream",
          "name": "stdout",
          "text": [
            "String without vowels: Hll, hw r y?\n"
          ]
        }
      ]
    },
    {
      "cell_type": "code",
      "source": [
        "#11\n",
        "# Given data\n",
        "orders = [\n",
        "    (34587, 40.95, 4),\n",
        "    (98762, 56.80, 5),\n",
        "    (77226, 32.95, 3),\n",
        "    (88112, 24.99, 3)\n",
        "]\n",
        "\n",
        "# Use map and lambda to calculate total price with condition\n",
        "final_orders = list(map(lambda x: (x[0], x[1] * x[2] if x[1] * x[2] >= 100 else x[1] * x[2] + 10), orders))\n",
        "\n",
        "# Print result\n",
        "print(final_orders)\n"
      ],
      "metadata": {
        "colab": {
          "base_uri": "https://localhost:8080/"
        },
        "id": "dJOGKjx1GwZW",
        "outputId": "6e396514-7d36-4aee-ec83-e61e77cacaf6"
      },
      "execution_count": 17,
      "outputs": [
        {
          "output_type": "stream",
          "name": "stdout",
          "text": [
            "[(34587, 163.8), (98762, 284.0), (77226, 108.85000000000001), (88112, 84.97)]\n"
          ]
        }
      ]
    }
  ]
}